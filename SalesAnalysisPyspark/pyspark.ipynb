{
  "nbformat": 4,
  "nbformat_minor": 0,
  "metadata": {
    "colab": {
      "provenance": []
    },
    "kernelspec": {
      "name": "python3",
      "display_name": "Python 3"
    },
    "language_info": {
      "name": "python"
    }
  },
  "cells": [
    {
      "cell_type": "code",
      "execution_count": 1,
      "metadata": {
        "colab": {
          "base_uri": "https://localhost:8080/"
        },
        "id": "jSZBv0PudrGZ",
        "outputId": "870e8a20-5c76-4894-bd31-021e2953ed42"
      },
      "outputs": [
        {
          "output_type": "stream",
          "name": "stdout",
          "text": [
            "Requirement already satisfied: pyspark in /usr/local/lib/python3.10/dist-packages (3.5.3)\n",
            "Requirement already satisfied: py4j==0.10.9.7 in /usr/local/lib/python3.10/dist-packages (from pyspark) (0.10.9.7)\n"
          ]
        }
      ],
      "source": [
        "!pip install pyspark"
      ]
    },
    {
      "cell_type": "code",
      "source": [
        "from pyspark.sql import SparkSession\n",
        "from pyspark.sql.types import StructType, StructField, IntegerType, StringType, DateType\n",
        "from pyspark.sql.functions import month, year, quarter, count,countDistinct, sum, col,max"
      ],
      "metadata": {
        "id": "JmD-vsrpd8c3"
      },
      "execution_count": 58,
      "outputs": []
    },
    {
      "cell_type": "code",
      "source": [
        "spark = SparkSession.builder \\\n",
        "    .appName(\"Sales Data Analysis\") \\\n",
        "    .getOrCreate()\n"
      ],
      "metadata": {
        "id": "T1tSXBUEgFNn"
      },
      "execution_count": 2,
      "outputs": []
    },
    {
      "cell_type": "code",
      "source": [
        "schema = StructType([\n",
        "    StructField(\"product_id\",IntegerType(),True),\n",
        "    StructField(\"customer_id\",StringType(),True),\n",
        "    StructField(\"order_date\",DateType(),True),\n",
        "    StructField(\"location\",StringType(),True),\n",
        "    StructField(\"source_order\",StringType(),True)\n",
        "])\n",
        "sales_df = spark.read.format(\"csv\").option(\"inferschema\",\"true\").schema(schema).load(\"/content/sales.csv.txt\")"
      ],
      "metadata": {
        "id": "GmKs_wCSedNN"
      },
      "execution_count": 4,
      "outputs": []
    },
    {
      "cell_type": "code",
      "source": [
        "sales_df.show(10)"
      ],
      "metadata": {
        "colab": {
          "base_uri": "https://localhost:8080/"
        },
        "id": "2XycF9WYfob1",
        "outputId": "48fd78fa-0311-4584-a7bf-4ba912f3cfdf"
      },
      "execution_count": 11,
      "outputs": [
        {
          "output_type": "stream",
          "name": "stdout",
          "text": [
            "+----------+-----------+----------+--------+------------+----------+-----------+-------------+\n",
            "|product_id|customer_id|order_date|location|source_order|order_year|order_month|order_quarter|\n",
            "+----------+-----------+----------+--------+------------+----------+-----------+-------------+\n",
            "|         1|          A|2023-01-01|   India|      Swiggy|      2023|          1|            1|\n",
            "|         2|          A|2022-01-01|   India|      Swiggy|      2022|          1|            1|\n",
            "|         2|          A|2023-01-07|   India|      Swiggy|      2023|          1|            1|\n",
            "|         3|          A|2023-01-10|   India|  Restaurant|      2023|          1|            1|\n",
            "|         3|          A|2022-01-11|   India|      Swiggy|      2022|          1|            1|\n",
            "|         3|          A|2023-01-11|   India|  Restaurant|      2023|          1|            1|\n",
            "|         2|          B|2022-02-01|   India|      Swiggy|      2022|          2|            1|\n",
            "|         2|          B|2023-01-02|   India|      Swiggy|      2023|          1|            1|\n",
            "|         1|          B|2023-01-04|   India|  Restaurant|      2023|          1|            1|\n",
            "|         1|          B|2023-02-11|   India|      Swiggy|      2023|          2|            1|\n",
            "+----------+-----------+----------+--------+------------+----------+-----------+-------------+\n",
            "only showing top 10 rows\n",
            "\n"
          ]
        }
      ]
    },
    {
      "cell_type": "code",
      "source": [
        "sales_df = sales_df.withColumn(\"order_year\", year(sales_df.order_date))\n",
        "sales_df = sales_df.withColumn(\"order_month\", month(sales_df.order_date))\n",
        "sales_df = sales_df.withColumn(\"order_quarter\", quarter(sales_df.order_date))"
      ],
      "metadata": {
        "id": "XDWT7OLCgUbF"
      },
      "execution_count": 7,
      "outputs": []
    },
    {
      "cell_type": "code",
      "source": [
        "display(sales_df)"
      ],
      "metadata": {
        "colab": {
          "base_uri": "https://localhost:8080/",
          "height": 34
        },
        "id": "03bzgPUE8Rpb",
        "outputId": "77d7c89f-71b8-49aa-ba00-cc95aacc75cd"
      },
      "execution_count": 9,
      "outputs": [
        {
          "output_type": "display_data",
          "data": {
            "text/plain": [
              "DataFrame[product_id: int, customer_id: string, order_date: date, location: string, source_order: string, order_year: int, order_month: int, order_quarter: int]"
            ]
          },
          "metadata": {}
        }
      ]
    },
    {
      "cell_type": "code",
      "source": [
        "schema = StructType([\n",
        "    StructField(\"product_id\",IntegerType(),True),\n",
        "    StructField(\"product_name\",StringType(),True),\n",
        "    StructField(\"price\",StringType(),True),\n",
        "\n",
        "])\n",
        "menu_df = spark.read.format(\"csv\").option(\"inferschema\",\"true\").schema(schema).load(\"/content/menu.csv.txt\")"
      ],
      "metadata": {
        "id": "D87BXnel8Tzk"
      },
      "execution_count": 14,
      "outputs": []
    },
    {
      "cell_type": "code",
      "source": [
        "menu_df.show()"
      ],
      "metadata": {
        "colab": {
          "base_uri": "https://localhost:8080/"
        },
        "id": "b1FjMepd9IYT",
        "outputId": "add0f2a9-0a09-4807-d853-a7392591b9b6"
      },
      "execution_count": 15,
      "outputs": [
        {
          "output_type": "stream",
          "name": "stdout",
          "text": [
            "+----------+------------+-----+\n",
            "|product_id|product_name|price|\n",
            "+----------+------------+-----+\n",
            "|         1|       PIZZA|  100|\n",
            "|         2|     Chowmin|  150|\n",
            "|         3|    sandwich|  120|\n",
            "|         4|        Dosa|  110|\n",
            "|         5|     Biryani|   80|\n",
            "|         6|       Pasta|  180|\n",
            "+----------+------------+-----+\n",
            "\n"
          ]
        }
      ]
    },
    {
      "cell_type": "code",
      "source": [
        "total_amount_spent = (\n",
        "    sales_df.join(menu_df, \"product_id\")\n",
        "    .groupBy(\"customer_id\")\n",
        "    .agg(sum(\"price\").alias(\"total_spent\"))\n",
        "    .orderBy(\"customer_id\")\n",
        ")\n",
        "total_amount_spent.show()"
      ],
      "metadata": {
        "colab": {
          "base_uri": "https://localhost:8080/"
        },
        "id": "vBN1eEug9Lg8",
        "outputId": "d39f1c57-4774-4dd7-d467-5633077c1276"
      },
      "execution_count": 46,
      "outputs": [
        {
          "output_type": "stream",
          "name": "stdout",
          "text": [
            "+-----------+-----------+\n",
            "|customer_id|total_spent|\n",
            "+-----------+-----------+\n",
            "|          A|     4260.0|\n",
            "|          B|     4440.0|\n",
            "|          C|     2400.0|\n",
            "|          D|     1200.0|\n",
            "|          E|     2040.0|\n",
            "+-----------+-----------+\n",
            "\n"
          ]
        }
      ]
    },
    {
      "cell_type": "code",
      "source": [
        "total_product_sales = (\n",
        "    sales_df.join(menu_df, \"product_id\")\n",
        "    .groupBy(\"product_name\")\n",
        "    .agg(sum(\"price\").alias(\"total_sales\"))\n",
        "    .orderBy(\"product_name\")\n",
        ")\n",
        "total_product_sales.show()"
      ],
      "metadata": {
        "colab": {
          "base_uri": "https://localhost:8080/"
        },
        "id": "jLsP2qKE9-MF",
        "outputId": "c6618326-5783-4b75-987e-f5284adfb4d2"
      },
      "execution_count": 47,
      "outputs": [
        {
          "output_type": "stream",
          "name": "stdout",
          "text": [
            "+------------+-----------+\n",
            "|product_name|total_sales|\n",
            "+------------+-----------+\n",
            "|     Biryani|      480.0|\n",
            "|     Chowmin|     3600.0|\n",
            "|        Dosa|     1320.0|\n",
            "|       PIZZA|     2100.0|\n",
            "|       Pasta|     1080.0|\n",
            "|    sandwich|     5760.0|\n",
            "+------------+-----------+\n",
            "\n"
          ]
        }
      ]
    },
    {
      "cell_type": "code",
      "source": [
        "total_month_sales = (\n",
        "    sales_df.join(menu_df, \"product_id\")\n",
        "    .groupBy(\"order_month\")\n",
        "    .agg(sum(\"price\").alias(\"total_sales\"))\n",
        "    .orderBy(\"order_month\")\n",
        ")\n",
        "total_month_sales.show()"
      ],
      "metadata": {
        "colab": {
          "base_uri": "https://localhost:8080/"
        },
        "id": "MYFnzyP7_aa9",
        "outputId": "a47c8620-2c38-4d8f-8103-49af83c5318f"
      },
      "execution_count": 48,
      "outputs": [
        {
          "output_type": "stream",
          "name": "stdout",
          "text": [
            "+-----------+-----------+\n",
            "|order_month|total_sales|\n",
            "+-----------+-----------+\n",
            "|          1|     2960.0|\n",
            "|          2|     2730.0|\n",
            "|          3|      910.0|\n",
            "|          5|     2960.0|\n",
            "|          6|     2960.0|\n",
            "|          7|      910.0|\n",
            "|         11|      910.0|\n",
            "+-----------+-----------+\n",
            "\n"
          ]
        }
      ]
    },
    {
      "cell_type": "code",
      "source": [
        "total_year_sales = (\n",
        "    sales_df.join(menu_df, \"product_id\")\n",
        "    .groupBy(\"order_year\")\n",
        "    .agg(sum(\"price\").alias(\"total_yearly_sales\"))\n",
        "    .orderBy(\"order_year\")\n",
        ")\n",
        "total_year_sales.show()"
      ],
      "metadata": {
        "colab": {
          "base_uri": "https://localhost:8080/"
        },
        "id": "CEz3UVXq_0kA",
        "outputId": "79c8b0d4-2236-4cf5-9399-4202e844dc13"
      },
      "execution_count": 50,
      "outputs": [
        {
          "output_type": "stream",
          "name": "stdout",
          "text": [
            "+----------+------------------+\n",
            "|order_year|total_yearly_sales|\n",
            "+----------+------------------+\n",
            "|      2022|            4350.0|\n",
            "|      2023|            9990.0|\n",
            "+----------+------------------+\n",
            "\n"
          ]
        }
      ]
    },
    {
      "cell_type": "code",
      "source": [
        "total_quaterly_sales = (\n",
        "      sales_df.join(menu_df,'product_id')\n",
        "      .groupBy('order_quarter')\n",
        "      .agg(sum('price').alias('total_quaterly_sales')).orderBy('order_quarter')\n",
        "\n",
        "                      )\n",
        "\n",
        "total_quaterly_sales.show()"
      ],
      "metadata": {
        "colab": {
          "base_uri": "https://localhost:8080/"
        },
        "id": "91q8s8sx__qJ",
        "outputId": "642de860-0b7e-49d5-91ae-d00ca12afdb4"
      },
      "execution_count": 52,
      "outputs": [
        {
          "output_type": "stream",
          "name": "stdout",
          "text": [
            "+-------------+--------------------+\n",
            "|order_quarter|total_quaterly_sales|\n",
            "+-------------+--------------------+\n",
            "|            1|              6600.0|\n",
            "|            2|              5920.0|\n",
            "|            3|               910.0|\n",
            "|            4|               910.0|\n",
            "+-------------+--------------------+\n",
            "\n"
          ]
        }
      ]
    },
    {
      "cell_type": "code",
      "source": [
        "total_product_count = (\n",
        "      sales_df.join(menu_df,'product_id')\n",
        "      .groupBy('product_id','product_name')\n",
        "      .agg(count(\"product_id\")\n",
        "      .alias('product_count'))\n",
        "      .orderBy(col('product_count').desc())\n",
        "      .drop(\"product_id\")\n",
        "\n",
        "                      )\n",
        "\n",
        "total_product_count.show()"
      ],
      "metadata": {
        "colab": {
          "base_uri": "https://localhost:8080/"
        },
        "id": "cTomQHbWAEOU",
        "outputId": "9a275d82-f48e-4ed9-a28f-77eff9d2129b"
      },
      "execution_count": 56,
      "outputs": [
        {
          "output_type": "stream",
          "name": "stdout",
          "text": [
            "+------------+-------------+\n",
            "|product_name|product_count|\n",
            "+------------+-------------+\n",
            "|    sandwich|           48|\n",
            "|     Chowmin|           24|\n",
            "|       PIZZA|           21|\n",
            "|        Dosa|           12|\n",
            "|     Biryani|            6|\n",
            "|       Pasta|            6|\n",
            "+------------+-------------+\n",
            "\n"
          ]
        }
      ]
    },
    {
      "cell_type": "code",
      "source": [
        "customer_freq = (sales_df.filter(sales_df.source_order=='Restaurant').groupBy('customer_id').agg(countDistinct('order_date').alias('distinct_order_count'))\n",
        ")\n",
        "\n",
        "customer_freq.show()"
      ],
      "metadata": {
        "colab": {
          "base_uri": "https://localhost:8080/"
        },
        "id": "bFkDy-8iA_ps",
        "outputId": "fae8415b-26ed-498d-b57f-0f74c755a31f"
      },
      "execution_count": 36,
      "outputs": [
        {
          "output_type": "stream",
          "name": "stdout",
          "text": [
            "+-----------+--------------------+\n",
            "|customer_id|distinct_order_count|\n",
            "+-----------+--------------------+\n",
            "|          E|                   5|\n",
            "|          B|                   6|\n",
            "|          D|                   1|\n",
            "|          C|                   3|\n",
            "|          A|                   6|\n",
            "+-----------+--------------------+\n",
            "\n"
          ]
        }
      ]
    },
    {
      "cell_type": "code",
      "source": [
        "sales_country = (\n",
        "    sales_df\n",
        "    .join(menu_df, 'product_id')\n",
        "    .groupBy('location')\n",
        "    .agg(sum('price').alias('total_sales'))\n",
        "    .orderBy('location')\n",
        ")\n",
        "sales_country.show()"
      ],
      "metadata": {
        "colab": {
          "base_uri": "https://localhost:8080/"
        },
        "id": "I3_gdiTMCkA7",
        "outputId": "652af2af-2ea7-4723-a881-27340d6eb5d7"
      },
      "execution_count": 42,
      "outputs": [
        {
          "output_type": "stream",
          "name": "stdout",
          "text": [
            "+--------+-----------+\n",
            "|location|total_sales|\n",
            "+--------+-----------+\n",
            "|   India|     4860.0|\n",
            "|      UK|     7020.0|\n",
            "|     USA|     2460.0|\n",
            "+--------+-----------+\n",
            "\n"
          ]
        }
      ]
    },
    {
      "cell_type": "code",
      "source": [
        "sales_source = (\n",
        "    sales_df\n",
        "    .join(menu_df, 'product_id')\n",
        "    .groupBy('source_order')\n",
        "    .agg(sum('price').alias('total_sales'))\n",
        "    .orderBy('total_sales')\n",
        ")\n",
        "sales_source.show()"
      ],
      "metadata": {
        "colab": {
          "base_uri": "https://localhost:8080/"
        },
        "id": "v8bltfIZDBWU",
        "outputId": "4225a6a4-d2a4-4486-b6f9-f4bb0aa413a6"
      },
      "execution_count": 45,
      "outputs": [
        {
          "output_type": "stream",
          "name": "stdout",
          "text": [
            "+------------+-----------+\n",
            "|source_order|total_sales|\n",
            "+------------+-----------+\n",
            "|  Restaurant|     3090.0|\n",
            "|      zomato|     4920.0|\n",
            "|      Swiggy|     6330.0|\n",
            "+------------+-----------+\n",
            "\n"
          ]
        }
      ]
    },
    {
      "cell_type": "code",
      "source": [
        "clv = (\n",
        "    sales_df.join(menu_df, \"product_id\")\n",
        "    .groupBy(\"customer_id\", \"order_year\")\n",
        "    .agg(sum(\"price\").alias(\"yearly_spent\"))\n",
        "    .orderBy(\"customer_id\", \"order_year\")\n",
        ")\n",
        "clv.show()\n"
      ],
      "metadata": {
        "colab": {
          "base_uri": "https://localhost:8080/"
        },
        "id": "FvtgXffWFlDB",
        "outputId": "7c2d3dce-c8a1-4c9b-e7a4-6a2924056bec"
      },
      "execution_count": 57,
      "outputs": [
        {
          "output_type": "stream",
          "name": "stdout",
          "text": [
            "+-----------+----------+------------+\n",
            "|customer_id|order_year|yearly_spent|\n",
            "+-----------+----------+------------+\n",
            "|          A|      2022|      1620.0|\n",
            "|          A|      2023|      2640.0|\n",
            "|          B|      2022|      1260.0|\n",
            "|          B|      2023|      3180.0|\n",
            "|          C|      2022|       540.0|\n",
            "|          C|      2023|      1860.0|\n",
            "|          D|      2022|       600.0|\n",
            "|          D|      2023|       600.0|\n",
            "|          E|      2022|       330.0|\n",
            "|          E|      2023|      1710.0|\n",
            "+-----------+----------+------------+\n",
            "\n"
          ]
        }
      ]
    },
    {
      "cell_type": "code",
      "source": [
        "recency_frequency = (\n",
        "    sales_df.groupBy(\"customer_id\")\n",
        "    .agg(\n",
        "        max(\"order_date\").alias(\"last_order_date\"),\n",
        "        count(\"order_date\").alias(\"order_count\")\n",
        "    )\n",
        "    .orderBy(\"customer_id\")\n",
        ")\n",
        "recency_frequency.show()"
      ],
      "metadata": {
        "colab": {
          "base_uri": "https://localhost:8080/"
        },
        "id": "sOnjAYwfFlbb",
        "outputId": "9b40f744-0e27-4c16-c081-ffb96f247eef"
      },
      "execution_count": 59,
      "outputs": [
        {
          "output_type": "stream",
          "name": "stdout",
          "text": [
            "+-----------+---------------+-----------+\n",
            "|customer_id|last_order_date|order_count|\n",
            "+-----------+---------------+-----------+\n",
            "|          A|     2023-06-11|         33|\n",
            "|          B|     2023-11-11|         36|\n",
            "|          C|     2023-06-11|         18|\n",
            "|          D|     2023-11-06|         12|\n",
            "|          E|     2023-11-11|         18|\n",
            "+-----------+---------------+-----------+\n",
            "\n"
          ]
        }
      ]
    },
    {
      "cell_type": "code",
      "source": [
        "top_products_by_source = (\n",
        "    sales_df.join(menu_df, \"product_id\")\n",
        "    .groupBy(\"source_order\", \"product_name\")\n",
        "    .agg(count(\"product_id\").alias(\"sales_count\"))\n",
        "    .orderBy(\"source_order\", col(\"sales_count\").desc())\n",
        ")\n",
        "top_products_by_source.show()"
      ],
      "metadata": {
        "colab": {
          "base_uri": "https://localhost:8080/"
        },
        "id": "U-ejzuTZFu3j",
        "outputId": "3a45d51e-dddf-40cd-c794-eec76d61a96f"
      },
      "execution_count": 60,
      "outputs": [
        {
          "output_type": "stream",
          "name": "stdout",
          "text": [
            "+------------+------------+-----------+\n",
            "|source_order|product_name|sales_count|\n",
            "+------------+------------+-----------+\n",
            "|  Restaurant|    sandwich|         18|\n",
            "|  Restaurant|       PIZZA|          6|\n",
            "|  Restaurant|        Dosa|          3|\n",
            "|      Swiggy|     Chowmin|         18|\n",
            "|      Swiggy|    sandwich|         15|\n",
            "|      Swiggy|       PIZZA|         15|\n",
            "|      Swiggy|        Dosa|          3|\n",
            "|      zomato|    sandwich|         15|\n",
            "|      zomato|        Dosa|          6|\n",
            "|      zomato|     Biryani|          6|\n",
            "|      zomato|       Pasta|          6|\n",
            "|      zomato|     Chowmin|          6|\n",
            "+------------+------------+-----------+\n",
            "\n"
          ]
        }
      ]
    },
    {
      "cell_type": "code",
      "source": [
        "seasonal_trends = (\n",
        "    sales_df.join(menu_df, \"product_id\")\n",
        "    .groupBy(\"order_month\", \"product_name\")\n",
        "    .agg(sum(\"price\").alias(\"monthly_sales\"))\n",
        "    .orderBy(\"order_month\", \"monthly_sales\", ascending=False)\n",
        ")\n",
        "seasonal_trends.show()\n"
      ],
      "metadata": {
        "colab": {
          "base_uri": "https://localhost:8080/"
        },
        "id": "ls09bPMPF_LA",
        "outputId": "cf55f31d-b4ac-4466-8ea2-9b1d1c522054"
      },
      "execution_count": 61,
      "outputs": [
        {
          "output_type": "stream",
          "name": "stdout",
          "text": [
            "+-----------+------------+-------------+\n",
            "|order_month|product_name|monthly_sales|\n",
            "+-----------+------------+-------------+\n",
            "|         11|    sandwich|        360.0|\n",
            "|         11|        Dosa|        220.0|\n",
            "|         11|     Chowmin|        150.0|\n",
            "|         11|       PIZZA|        100.0|\n",
            "|         11|     Biryani|         80.0|\n",
            "|          7|    sandwich|        360.0|\n",
            "|          7|        Dosa|        220.0|\n",
            "|          7|     Chowmin|        150.0|\n",
            "|          7|       PIZZA|        100.0|\n",
            "|          7|     Biryani|         80.0|\n",
            "|          6|    sandwich|       1200.0|\n",
            "|          6|     Chowmin|        900.0|\n",
            "|          6|       PIZZA|        500.0|\n",
            "|          6|       Pasta|        360.0|\n",
            "|          5|    sandwich|       1200.0|\n",
            "|          5|     Chowmin|        900.0|\n",
            "|          5|       PIZZA|        500.0|\n",
            "|          5|       Pasta|        360.0|\n",
            "|          3|    sandwich|        360.0|\n",
            "|          3|        Dosa|        220.0|\n",
            "+-----------+------------+-------------+\n",
            "only showing top 20 rows\n",
            "\n"
          ]
        }
      ]
    },
    {
      "cell_type": "code",
      "source": [
        "from pyspark.sql.functions import lag, col\n",
        "from pyspark.sql.window import Window\n",
        "\n",
        "window_spec = Window.orderBy(\"order_year\")\n",
        "\n",
        "sales_growth = (\n",
        "    sales_df.join(menu_df, \"product_id\")\n",
        "    .groupBy(\"order_year\")\n",
        "    .agg(sum(\"price\").alias(\"yearly_sales\"))\n",
        "    .withColumn(\"previous_sales\", lag(\"yearly_sales\").over(window_spec))\n",
        "    .withColumn(\n",
        "        \"growth_rate\",\n",
        "        ((col(\"yearly_sales\") - col(\"previous_sales\")) / col(\"previous_sales\") * 100).alias(\"growth_rate\")\n",
        "    )\n",
        ")\n",
        "sales_growth.show()\n"
      ],
      "metadata": {
        "colab": {
          "base_uri": "https://localhost:8080/"
        },
        "id": "LbKc1QjaF_nG",
        "outputId": "a18f9481-e295-4a16-e49d-7e04756f12e8"
      },
      "execution_count": 62,
      "outputs": [
        {
          "output_type": "stream",
          "name": "stdout",
          "text": [
            "+----------+------------+--------------+------------------+\n",
            "|order_year|yearly_sales|previous_sales|       growth_rate|\n",
            "+----------+------------+--------------+------------------+\n",
            "|      2022|      4350.0|          NULL|              NULL|\n",
            "|      2023|      9990.0|        4350.0|129.65517241379308|\n",
            "+----------+------------+--------------+------------------+\n",
            "\n"
          ]
        }
      ]
    },
    {
      "cell_type": "code",
      "source": [
        "location_analysis = (\n",
        "    sales_df.join(menu_df, \"product_id\")\n",
        "    .groupBy(\"location\", \"product_name\")\n",
        "    .agg(sum(\"price\").alias(\"location_sales\"))\n",
        "    .orderBy(\"location\", col(\"location_sales\").desc())\n",
        ")\n",
        "location_analysis.show()\n"
      ],
      "metadata": {
        "colab": {
          "base_uri": "https://localhost:8080/"
        },
        "id": "4rh6mt9lGKLd",
        "outputId": "e102c84c-10a2-4a3c-d93c-3cf9a65c8ef9"
      },
      "execution_count": 63,
      "outputs": [
        {
          "output_type": "stream",
          "name": "stdout",
          "text": [
            "+--------+------------+--------------+\n",
            "|location|product_name|location_sales|\n",
            "+--------+------------+--------------+\n",
            "|   India|    sandwich|        2160.0|\n",
            "|   India|     Chowmin|        1800.0|\n",
            "|   India|       PIZZA|         900.0|\n",
            "|      UK|    sandwich|        2880.0|\n",
            "|      UK|     Chowmin|        1800.0|\n",
            "|      UK|       PIZZA|         900.0|\n",
            "|      UK|        Dosa|         660.0|\n",
            "|      UK|       Pasta|         540.0|\n",
            "|      UK|     Biryani|         240.0|\n",
            "|     USA|    sandwich|         720.0|\n",
            "|     USA|        Dosa|         660.0|\n",
            "|     USA|       Pasta|         540.0|\n",
            "|     USA|       PIZZA|         300.0|\n",
            "|     USA|     Biryani|         240.0|\n",
            "+--------+------------+--------------+\n",
            "\n"
          ]
        }
      ]
    }
  ]
}