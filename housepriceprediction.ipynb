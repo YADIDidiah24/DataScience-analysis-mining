{
 "cells": [
  {
   "cell_type": "code",
   "execution_count": 1,
   "id": "c3b640df",
   "metadata": {
    "_cell_guid": "b1076dfc-b9ad-4769-8c92-a6c4dae69d19",
    "_uuid": "8f2839f25d086af736a60e9eeb907d3b93b6e0e5",
    "execution": {
     "iopub.execute_input": "2025-01-13T13:05:27.984652Z",
     "iopub.status.busy": "2025-01-13T13:05:27.984236Z",
     "iopub.status.idle": "2025-01-13T13:05:30.953046Z",
     "shell.execute_reply": "2025-01-13T13:05:30.951773Z"
    },
    "papermill": {
     "duration": 2.98083,
     "end_time": "2025-01-13T13:05:30.955944",
     "exception": false,
     "start_time": "2025-01-13T13:05:27.975114",
     "status": "completed"
    },
    "tags": []
   },
   "outputs": [
    {
     "name": "stdout",
     "output_type": "stream",
     "text": [
      "/kaggle/input/house-prices-advanced-regression-techniques/sample_submission.csv\n",
      "/kaggle/input/house-prices-advanced-regression-techniques/data_description.txt\n",
      "/kaggle/input/house-prices-advanced-regression-techniques/train.csv\n",
      "/kaggle/input/house-prices-advanced-regression-techniques/test.csv\n"
     ]
    }
   ],
   "source": [
    "\n",
    "import numpy as np # linear algebra\n",
    "import pandas as pd # data processing, CSV file I/O (e.g. pd.read_csv)\n",
    "import matplotlib.pyplot as plt\n",
    "import seaborn as sns\n",
    "from sklearn.impute import SimpleImputer\n",
    "from sklearn.impute import SimpleImputer\n",
    "from sklearn.preprocessing import StandardScaler, OneHotEncoder\n",
    "from sklearn.compose import ColumnTransformer\n",
    "from sklearn.pipeline import Pipeline\n",
    "from sklearn.model_selection import train_test_split\n",
    "import os\n",
    "for dirname, _, filenames in os.walk('/kaggle/input'):\n",
    "    for filename in filenames:\n",
    "        print(os.path.join(dirname, filename))\n"
   ]
  },
  {
   "cell_type": "code",
   "execution_count": 2,
   "id": "4eed1196",
   "metadata": {
    "execution": {
     "iopub.execute_input": "2025-01-13T13:05:30.972080Z",
     "iopub.status.busy": "2025-01-13T13:05:30.971585Z",
     "iopub.status.idle": "2025-01-13T13:05:30.975638Z",
     "shell.execute_reply": "2025-01-13T13:05:30.974698Z"
    },
    "papermill": {
     "duration": 0.013673,
     "end_time": "2025-01-13T13:05:30.977280",
     "exception": false,
     "start_time": "2025-01-13T13:05:30.963607",
     "status": "completed"
    },
    "tags": []
   },
   "outputs": [],
   "source": [
    "# with open('/kaggle/input/house-prices-advanced-regression-techniques/data_description.txt') as file:\n",
    "    \n",
    "#     lines=file.readlines()\n",
    "# lines"
   ]
  },
  {
   "cell_type": "code",
   "execution_count": 3,
   "id": "c2f19397",
   "metadata": {
    "execution": {
     "iopub.execute_input": "2025-01-13T13:05:30.992007Z",
     "iopub.status.busy": "2025-01-13T13:05:30.991657Z",
     "iopub.status.idle": "2025-01-13T13:05:30.995591Z",
     "shell.execute_reply": "2025-01-13T13:05:30.994385Z"
    },
    "papermill": {
     "duration": 0.01319,
     "end_time": "2025-01-13T13:05:30.997317",
     "exception": false,
     "start_time": "2025-01-13T13:05:30.984127",
     "status": "completed"
    },
    "tags": []
   },
   "outputs": [],
   "source": [
    "# train_df = pd.read_csv('/kaggle/input/house-prices-advanced-regression-techniques/train.csv')\n",
    "# train_df = train_df.drop(columns=['Id'])\n",
    "\n",
    "\n"
   ]
  },
  {
   "cell_type": "code",
   "execution_count": 4,
   "id": "53f10514",
   "metadata": {
    "execution": {
     "iopub.execute_input": "2025-01-13T13:05:31.012165Z",
     "iopub.status.busy": "2025-01-13T13:05:31.011737Z",
     "iopub.status.idle": "2025-01-13T13:05:31.177211Z",
     "shell.execute_reply": "2025-01-13T13:05:31.175667Z"
    },
    "papermill": {
     "duration": 0.174621,
     "end_time": "2025-01-13T13:05:31.178791",
     "exception": true,
     "start_time": "2025-01-13T13:05:31.004170",
     "status": "failed"
    },
    "tags": []
   },
   "outputs": [
    {
     "ename": "NameError",
     "evalue": "name 'train_df' is not defined",
     "output_type": "error",
     "traceback": [
      "\u001b[0;31m---------------------------------------------------------------------------\u001b[0m",
      "\u001b[0;31mNameError\u001b[0m                                 Traceback (most recent call last)",
      "\u001b[0;32m<ipython-input-4-ea99a0224e67>\u001b[0m in \u001b[0;36m<cell line: 1>\u001b[0;34m()\u001b[0m\n\u001b[0;32m----> 1\u001b[0;31m \u001b[0mtrain_df\u001b[0m\u001b[0;34m.\u001b[0m\u001b[0mshape\u001b[0m\u001b[0;34m\u001b[0m\u001b[0;34m\u001b[0m\u001b[0m\n\u001b[0m",
      "\u001b[0;31mNameError\u001b[0m: name 'train_df' is not defined"
     ]
    }
   ],
   "source": [
    "train_df.shape"
   ]
  },
  {
   "cell_type": "code",
   "execution_count": null,
   "id": "93e67d32",
   "metadata": {
    "execution": {
     "iopub.execute_input": "2025-01-13T10:25:11.664903Z",
     "iopub.status.busy": "2025-01-13T10:25:11.664417Z",
     "iopub.status.idle": "2025-01-13T10:25:11.691824Z",
     "shell.execute_reply": "2025-01-13T10:25:11.690918Z",
     "shell.execute_reply.started": "2025-01-13T10:25:11.664861Z"
    },
    "papermill": {
     "duration": null,
     "end_time": null,
     "exception": null,
     "start_time": null,
     "status": "pending"
    },
    "tags": []
   },
   "outputs": [],
   "source": [
    "missing_train = train_df.isna().sum().sort_values(ascending=False)\n",
    "missing_train = missing_train[missing_train > 0]\n",
    "print(\"\\nMissing Values in Train Data:\")\n",
    "print(missing_train)\n"
   ]
  },
  {
   "cell_type": "code",
   "execution_count": null,
   "id": "7a16ad5e",
   "metadata": {
    "execution": {
     "iopub.execute_input": "2025-01-13T10:25:11.692944Z",
     "iopub.status.busy": "2025-01-13T10:25:11.692685Z",
     "iopub.status.idle": "2025-01-13T10:25:12.109477Z",
     "shell.execute_reply": "2025-01-13T10:25:12.107907Z",
     "shell.execute_reply.started": "2025-01-13T10:25:11.692921Z"
    },
    "papermill": {
     "duration": null,
     "end_time": null,
     "exception": null,
     "start_time": null,
     "status": "pending"
    },
    "tags": []
   },
   "outputs": [],
   "source": [
    "plt.figure(figsize=(10, 6))\n",
    "sns.histplot(train_df['SalePrice'], kde=True, bins=30, color='blue')\n",
    "plt.title('Distribution of SalePrice', fontsize=14)\n",
    "plt.xlabel('SalePrice', fontsize=12)\n",
    "plt.ylabel('Frequency', fontsize=12)\n",
    "plt.show()"
   ]
  },
  {
   "cell_type": "code",
   "execution_count": null,
   "id": "ad90cb1e",
   "metadata": {
    "execution": {
     "iopub.execute_input": "2025-01-13T10:25:12.110894Z",
     "iopub.status.busy": "2025-01-13T10:25:12.110565Z",
     "iopub.status.idle": "2025-01-13T10:25:12.530664Z",
     "shell.execute_reply": "2025-01-13T10:25:12.529471Z",
     "shell.execute_reply.started": "2025-01-13T10:25:12.110866Z"
    },
    "papermill": {
     "duration": null,
     "end_time": null,
     "exception": null,
     "start_time": null,
     "status": "pending"
    },
    "tags": []
   },
   "outputs": [],
   "source": [
    "train_df['LogSalePrice'] = np.log1p(train_df['SalePrice'])\n",
    "plt.figure(figsize=(10, 6))\n",
    "sns.histplot(train_df['LogSalePrice'], kde=True, bins=30, color='green')\n",
    "plt.title('Log-Transformed SalePrice', fontsize=14)\n",
    "plt.xlabel('LogSalePrice', fontsize=12)\n",
    "plt.ylabel('Frequency', fontsize=12)\n",
    "plt.show()"
   ]
  },
  {
   "cell_type": "code",
   "execution_count": null,
   "id": "7f92783f",
   "metadata": {
    "execution": {
     "iopub.execute_input": "2025-01-13T10:25:12.534252Z",
     "iopub.status.busy": "2025-01-13T10:25:12.533918Z",
     "iopub.status.idle": "2025-01-13T10:25:12.908008Z",
     "shell.execute_reply": "2025-01-13T10:25:12.906995Z",
     "shell.execute_reply.started": "2025-01-13T10:25:12.534222Z"
    },
    "papermill": {
     "duration": null,
     "end_time": null,
     "exception": null,
     "start_time": null,
     "status": "pending"
    },
    "tags": []
   },
   "outputs": [],
   "source": [
    "train_df_encoded = pd.get_dummies(train_df)\n",
    "corr_matrix = train_df_encoded.corr()\n",
    "top_corr_features = corr_matrix['SalePrice'].sort_values(ascending=False)"
   ]
  },
  {
   "cell_type": "code",
   "execution_count": null,
   "id": "2568e395",
   "metadata": {
    "execution": {
     "iopub.execute_input": "2025-01-13T10:25:12.910157Z",
     "iopub.status.busy": "2025-01-13T10:25:12.909803Z",
     "iopub.status.idle": "2025-01-13T10:25:12.916213Z",
     "shell.execute_reply": "2025-01-13T10:25:12.915004Z",
     "shell.execute_reply.started": "2025-01-13T10:25:12.910130Z"
    },
    "papermill": {
     "duration": null,
     "end_time": null,
     "exception": null,
     "start_time": null,
     "status": "pending"
    },
    "tags": []
   },
   "outputs": [],
   "source": [
    "print(\"\\nTop Features Correlated with SalePrice:\")\n",
    "print(top_corr_features.head(10))"
   ]
  },
  {
   "cell_type": "code",
   "execution_count": null,
   "id": "390faabd",
   "metadata": {
    "execution": {
     "iopub.execute_input": "2025-01-13T10:25:12.917530Z",
     "iopub.status.busy": "2025-01-13T10:25:12.917186Z",
     "iopub.status.idle": "2025-01-13T10:25:14.079980Z",
     "shell.execute_reply": "2025-01-13T10:25:14.078543Z",
     "shell.execute_reply.started": "2025-01-13T10:25:12.917489Z"
    },
    "papermill": {
     "duration": null,
     "end_time": null,
     "exception": null,
     "start_time": null,
     "status": "pending"
    },
    "tags": []
   },
   "outputs": [],
   "source": [
    "plt.figure(figsize=(12, 8))\n",
    "sns.heatmap(corr_matrix[['SalePrice']].sort_values(by='SalePrice', ascending=False), \n",
    "            annot=True, cmap='coolwarm', fmt='.2f')\n",
    "plt.title('Correlation of Features with SalePrice', fontsize=14)\n",
    "plt.show()"
   ]
  },
  {
   "cell_type": "code",
   "execution_count": null,
   "id": "8999e5c8",
   "metadata": {
    "execution": {
     "iopub.execute_input": "2025-01-13T10:25:14.081576Z",
     "iopub.status.busy": "2025-01-13T10:25:14.081259Z",
     "iopub.status.idle": "2025-01-13T10:25:14.886960Z",
     "shell.execute_reply": "2025-01-13T10:25:14.885757Z",
     "shell.execute_reply.started": "2025-01-13T10:25:14.081548Z"
    },
    "papermill": {
     "duration": null,
     "end_time": null,
     "exception": null,
     "start_time": null,
     "status": "pending"
    },
    "tags": []
   },
   "outputs": [],
   "source": [
    "key_features = ['GrLivArea', 'OverallQual', 'TotalBsmtSF']\n",
    "for feature in key_features:\n",
    "    plt.figure(figsize=(8, 6))\n",
    "    sns.scatterplot(data=train_df, x=feature, y='SalePrice', alpha=0.8, color='purple')\n",
    "    plt.title(f'{feature} vs SalePrice', fontsize=14)\n",
    "    plt.xlabel(feature, fontsize=12)\n",
    "    plt.ylabel('SalePrice', fontsize=12)\n",
    "    plt.show()"
   ]
  },
  {
   "cell_type": "code",
   "execution_count": null,
   "id": "130b810e",
   "metadata": {
    "execution": {
     "iopub.execute_input": "2025-01-13T10:25:14.888239Z",
     "iopub.status.busy": "2025-01-13T10:25:14.887931Z",
     "iopub.status.idle": "2025-01-13T10:25:14.896021Z",
     "shell.execute_reply": "2025-01-13T10:25:14.894888Z",
     "shell.execute_reply.started": "2025-01-13T10:25:14.888210Z"
    },
    "papermill": {
     "duration": null,
     "end_time": null,
     "exception": null,
     "start_time": null,
     "status": "pending"
    },
    "tags": []
   },
   "outputs": [],
   "source": [
    "categorical_features = train_df.select_dtypes(include=['object']).columns\n",
    "categorical_features"
   ]
  },
  {
   "cell_type": "code",
   "execution_count": null,
   "id": "aa3d8ac9",
   "metadata": {
    "execution": {
     "iopub.execute_input": "2025-01-13T10:25:14.897689Z",
     "iopub.status.busy": "2025-01-13T10:25:14.897359Z",
     "iopub.status.idle": "2025-01-13T10:25:14.915594Z",
     "shell.execute_reply": "2025-01-13T10:25:14.914391Z",
     "shell.execute_reply.started": "2025-01-13T10:25:14.897661Z"
    },
    "papermill": {
     "duration": null,
     "end_time": null,
     "exception": null,
     "start_time": null,
     "status": "pending"
    },
    "tags": []
   },
   "outputs": [],
   "source": [
    "# missing_train_cat = missing_train[ train_df.select_dtypes(include=['object']).columns]\n",
    "# missing_train_cat"
   ]
  },
  {
   "cell_type": "code",
   "execution_count": null,
   "id": "07f33108",
   "metadata": {
    "execution": {
     "iopub.execute_input": "2025-01-13T10:25:14.917153Z",
     "iopub.status.busy": "2025-01-13T10:25:14.916840Z",
     "iopub.status.idle": "2025-01-13T10:25:14.960594Z",
     "shell.execute_reply": "2025-01-13T10:25:14.959343Z",
     "shell.execute_reply.started": "2025-01-13T10:25:14.917123Z"
    },
    "papermill": {
     "duration": null,
     "end_time": null,
     "exception": null,
     "start_time": null,
     "status": "pending"
    },
    "tags": []
   },
   "outputs": [],
   "source": [
    "train_df[categorical_features]"
   ]
  },
  {
   "cell_type": "code",
   "execution_count": null,
   "id": "3facb484",
   "metadata": {
    "execution": {
     "iopub.execute_input": "2025-01-13T10:26:18.151545Z",
     "iopub.status.busy": "2025-01-13T10:26:18.151088Z",
     "iopub.status.idle": "2025-01-13T10:26:18.191815Z",
     "shell.execute_reply": "2025-01-13T10:26:18.190603Z",
     "shell.execute_reply.started": "2025-01-13T10:26:18.151506Z"
    },
    "papermill": {
     "duration": null,
     "end_time": null,
     "exception": null,
     "start_time": null,
     "status": "pending"
    },
    "tags": []
   },
   "outputs": [],
   "source": [
    "numerical_features = train_df.select_dtypes(include=['int64', 'float64']).columns\n",
    "categorical_features = train_df.select_dtypes(include=['object']).columns\n",
    "num_imputer = SimpleImputer(strategy='constant', fill_value=0)  # Use 0 for numerical features\n",
    "cat_imputer = SimpleImputer(strategy='constant',fill_value='missing')\n",
    "train_df[numerical_features] = num_imputer.fit_transform(train_df[numerical_features])\n",
    "train_df[categorical_features] = cat_imputer.fit_transform(train_df[categorical_features])"
   ]
  },
  {
   "cell_type": "code",
   "execution_count": null,
   "id": "7ac2d6e7",
   "metadata": {
    "execution": {
     "iopub.execute_input": "2025-01-13T10:26:20.805836Z",
     "iopub.status.busy": "2025-01-13T10:26:20.805311Z",
     "iopub.status.idle": "2025-01-13T10:26:20.814148Z",
     "shell.execute_reply": "2025-01-13T10:26:20.813161Z",
     "shell.execute_reply.started": "2025-01-13T10:26:20.805797Z"
    },
    "papermill": {
     "duration": null,
     "end_time": null,
     "exception": null,
     "start_time": null,
     "status": "pending"
    },
    "tags": []
   },
   "outputs": [],
   "source": [
    "numerical_features=numerical_features.drop([\"SalePrice\",\"LogSalePrice\"])\n",
    "numerical_features"
   ]
  },
  {
   "cell_type": "code",
   "execution_count": null,
   "id": "387690ba",
   "metadata": {
    "papermill": {
     "duration": null,
     "end_time": null,
     "exception": null,
     "start_time": null,
     "status": "pending"
    },
    "tags": []
   },
   "outputs": [],
   "source": [
    "numerical_features"
   ]
  },
  {
   "cell_type": "code",
   "execution_count": null,
   "id": "6848282a",
   "metadata": {
    "execution": {
     "iopub.execute_input": "2025-01-13T10:26:28.358034Z",
     "iopub.status.busy": "2025-01-13T10:26:28.357676Z",
     "iopub.status.idle": "2025-01-13T10:26:28.376531Z",
     "shell.execute_reply": "2025-01-13T10:26:28.375388Z",
     "shell.execute_reply.started": "2025-01-13T10:26:28.358009Z"
    },
    "papermill": {
     "duration": null,
     "end_time": null,
     "exception": null,
     "start_time": null,
     "status": "pending"
    },
    "tags": []
   },
   "outputs": [],
   "source": [
    "missing_values = train_df.isna().sum()\n",
    "missing_values[missing_values>0]\n",
    "\n",
    "\n"
   ]
  },
  {
   "cell_type": "code",
   "execution_count": null,
   "id": "3b459a5a",
   "metadata": {
    "execution": {
     "iopub.execute_input": "2025-01-13T10:26:28.980373Z",
     "iopub.status.busy": "2025-01-13T10:26:28.979988Z",
     "iopub.status.idle": "2025-01-13T10:26:29.017987Z",
     "shell.execute_reply": "2025-01-13T10:26:29.016949Z",
     "shell.execute_reply.started": "2025-01-13T10:26:28.980344Z"
    },
    "papermill": {
     "duration": null,
     "end_time": null,
     "exception": null,
     "start_time": null,
     "status": "pending"
    },
    "tags": []
   },
   "outputs": [],
   "source": [
    "Q1 = train_df[numerical_features].quantile(0.25)\n",
    "Q3 = train_df[numerical_features].quantile(0.75)\n",
    "IQR = Q3 - Q1\n",
    "\n",
    "lower_bound = Q1 - 1.5 * IQR\n",
    "upper_bound = Q3 + 1.5 * IQR\n",
    "\n",
    "outliers = ((train_df[numerical_features] < lower_bound) | (train_df[numerical_features] > upper_bound))\n",
    "\n",
    "outliers_count = outliers.sum()\n",
    "outliers_count[outliers_count>0]\n"
   ]
  },
  {
   "cell_type": "code",
   "execution_count": null,
   "id": "2d989d43",
   "metadata": {
    "execution": {
     "iopub.execute_input": "2025-01-13T10:26:29.495271Z",
     "iopub.status.busy": "2025-01-13T10:26:29.494839Z",
     "iopub.status.idle": "2025-01-13T10:26:29.522012Z",
     "shell.execute_reply": "2025-01-13T10:26:29.520624Z",
     "shell.execute_reply.started": "2025-01-13T10:26:29.495234Z"
    },
    "papermill": {
     "duration": null,
     "end_time": null,
     "exception": null,
     "start_time": null,
     "status": "pending"
    },
    "tags": []
   },
   "outputs": [],
   "source": [
    "from scipy import stats\n",
    "\n",
    "# Calculate the Z-scores for numerical features\n",
    "z_scores = stats.zscore(train_df[numerical_features])\n",
    "\n",
    "# Identify the outliers (z-scores > 3 or < -3)\n",
    "outliers_z = (z_scores > 3) | (z_scores < -3)\n",
    "\n",
    "# Count the number of outliers for each feature\n",
    "outliers_z_count = outliers_z.sum(axis=0)\n",
    "print(\"Number of outliers based on Z-scores:\")\n",
    "print(outliers_z_count)\n"
   ]
  },
  {
   "cell_type": "code",
   "execution_count": null,
   "id": "c3d833c0",
   "metadata": {
    "execution": {
     "iopub.execute_input": "2025-01-13T10:26:29.525349Z",
     "iopub.status.busy": "2025-01-13T10:26:29.524999Z",
     "iopub.status.idle": "2025-01-13T10:26:34.081208Z",
     "shell.execute_reply": "2025-01-13T10:26:34.080041Z",
     "shell.execute_reply.started": "2025-01-13T10:26:29.525317Z"
    },
    "papermill": {
     "duration": null,
     "end_time": null,
     "exception": null,
     "start_time": null,
     "status": "pending"
    },
    "tags": []
   },
   "outputs": [],
   "source": [
    "# If your target is a classification label (e.g., 'SaleCondition' or similar)\n",
    "class_distribution = train_df['SalePrice'].value_counts()  # Replace with your target column\n",
    "print(\"Class distribution for target variable:\")\n",
    "print(class_distribution)\n",
    "\n",
    "# Visualize the class distribution\n",
    "import matplotlib.pyplot as plt\n",
    "\n",
    "class_distribution.plot(kind='bar')\n",
    "plt.title('Class Distribution')\n",
    "plt.xlabel('Classes')\n",
    "plt.ylabel('Count')\n",
    "plt.show()\n"
   ]
  },
  {
   "cell_type": "code",
   "execution_count": null,
   "id": "49b09f79",
   "metadata": {
    "execution": {
     "iopub.execute_input": "2025-01-13T10:26:34.083198Z",
     "iopub.status.busy": "2025-01-13T10:26:34.082768Z",
     "iopub.status.idle": "2025-01-13T10:26:34.425808Z",
     "shell.execute_reply": "2025-01-13T10:26:34.424871Z",
     "shell.execute_reply.started": "2025-01-13T10:26:34.083155Z"
    },
    "papermill": {
     "duration": null,
     "end_time": null,
     "exception": null,
     "start_time": null,
     "status": "pending"
    },
    "tags": []
   },
   "outputs": [],
   "source": [
    "# Plot histogram for SalePrice\n",
    "train_df['SalePrice'].hist(bins=50)\n",
    "plt.title('Distribution of SalePrice')\n",
    "plt.xlabel('SalePrice')\n",
    "plt.ylabel('Frequency')\n",
    "plt.show()\n"
   ]
  },
  {
   "cell_type": "code",
   "execution_count": null,
   "id": "2b229df6",
   "metadata": {
    "execution": {
     "iopub.execute_input": "2025-01-13T10:26:34.427839Z",
     "iopub.status.busy": "2025-01-13T10:26:34.427529Z",
     "iopub.status.idle": "2025-01-13T10:26:34.433908Z",
     "shell.execute_reply": "2025-01-13T10:26:34.432805Z",
     "shell.execute_reply.started": "2025-01-13T10:26:34.427812Z"
    },
    "papermill": {
     "duration": null,
     "end_time": null,
     "exception": null,
     "start_time": null,
     "status": "pending"
    },
    "tags": []
   },
   "outputs": [],
   "source": [
    "skewness = train_df['SalePrice'].skew()\n",
    "print(f'Skewness of SalePrice: {skewness}')\n"
   ]
  },
  {
   "cell_type": "code",
   "execution_count": null,
   "id": "62e3d9ad",
   "metadata": {
    "execution": {
     "iopub.execute_input": "2025-01-13T10:26:34.435997Z",
     "iopub.status.busy": "2025-01-13T10:26:34.435583Z",
     "iopub.status.idle": "2025-01-13T10:26:34.465902Z",
     "shell.execute_reply": "2025-01-13T10:26:34.464845Z",
     "shell.execute_reply.started": "2025-01-13T10:26:34.435967Z"
    },
    "papermill": {
     "duration": null,
     "end_time": null,
     "exception": null,
     "start_time": null,
     "status": "pending"
    },
    "tags": []
   },
   "outputs": [],
   "source": [
    "skewed_features = train_df[numerical_features].skew().sort_values(ascending=False)\n",
    "skewed_features = skewed_features[skewed_features > 0.5].index  # Adjust threshold if needed\n",
    "skewed_features_test = skewed_features[skewed_features != 'SalePrice']\n",
    "train_df[skewed_features] = np.log1p(train_df[skewed_features])\n",
    "test_df[skewed_features_test] = np.log1p(test_df[skewed_features_test])"
   ]
  },
  {
   "cell_type": "code",
   "execution_count": null,
   "id": "739f1d5d",
   "metadata": {
    "execution": {
     "iopub.execute_input": "2025-01-13T10:26:34.467263Z",
     "iopub.status.busy": "2025-01-13T10:26:34.466980Z",
     "iopub.status.idle": "2025-01-13T10:26:34.481298Z",
     "shell.execute_reply": "2025-01-13T10:26:34.480149Z",
     "shell.execute_reply.started": "2025-01-13T10:26:34.467237Z"
    },
    "papermill": {
     "duration": null,
     "end_time": null,
     "exception": null,
     "start_time": null,
     "status": "pending"
    },
    "tags": []
   },
   "outputs": [],
   "source": [
    "skewness = train_df[numerical_features].skew()\n",
    "print(f'Skewness of SalePrice: {skewness}')"
   ]
  },
  {
   "cell_type": "code",
   "execution_count": null,
   "id": "abe1fa74",
   "metadata": {
    "execution": {
     "iopub.execute_input": "2025-01-13T10:26:46.265300Z",
     "iopub.status.busy": "2025-01-13T10:26:46.264877Z",
     "iopub.status.idle": "2025-01-13T10:26:46.271944Z",
     "shell.execute_reply": "2025-01-13T10:26:46.270405Z",
     "shell.execute_reply.started": "2025-01-13T10:26:46.265260Z"
    },
    "papermill": {
     "duration": null,
     "end_time": null,
     "exception": null,
     "start_time": null,
     "status": "pending"
    },
    "tags": []
   },
   "outputs": [],
   "source": [
    "ohe = OneHotEncoder(handle_unknown='ignore', sparse=False)\n",
    "scaler = StandardScaler()\n",
    "\n",
    "preprocessor = ColumnTransformer(\n",
    "    transformers=[\n",
    "        ('num', Pipeline(steps=[('imputer', num_imputer), ('scaler', scaler)]), numerical_features),\n",
    "        ('cat', Pipeline(steps=[('imputer', cat_imputer), ('ohe', ohe)]), categorical_features)\n",
    "    ]\n",
    ")"
   ]
  },
  {
   "cell_type": "code",
   "execution_count": null,
   "id": "c98a27b4",
   "metadata": {
    "execution": {
     "iopub.execute_input": "2025-01-13T10:26:46.757553Z",
     "iopub.status.busy": "2025-01-13T10:26:46.757122Z",
     "iopub.status.idle": "2025-01-13T10:26:46.769397Z",
     "shell.execute_reply": "2025-01-13T10:26:46.768218Z",
     "shell.execute_reply.started": "2025-01-13T10:26:46.757520Z"
    },
    "papermill": {
     "duration": null,
     "end_time": null,
     "exception": null,
     "start_time": null,
     "status": "pending"
    },
    "tags": []
   },
   "outputs": [],
   "source": [
    "X = train_df.drop(['SalePrice', 'LogSalePrice'], axis=1,errors='ignore')\n",
    "y = train_df['LogSalePrice']\n",
    "X_test = test_df"
   ]
  },
  {
   "cell_type": "code",
   "execution_count": null,
   "id": "b6801832",
   "metadata": {
    "execution": {
     "iopub.execute_input": "2025-01-13T10:26:46.786264Z",
     "iopub.status.busy": "2025-01-13T10:26:46.785860Z",
     "iopub.status.idle": "2025-01-13T10:26:46.793133Z",
     "shell.execute_reply": "2025-01-13T10:26:46.791637Z",
     "shell.execute_reply.started": "2025-01-13T10:26:46.786231Z"
    },
    "papermill": {
     "duration": null,
     "end_time": null,
     "exception": null,
     "start_time": null,
     "status": "pending"
    },
    "tags": []
   },
   "outputs": [],
   "source": [
    "# Check the column names in train_df\n",
    "print(X.columns)\n"
   ]
  },
  {
   "cell_type": "code",
   "execution_count": null,
   "id": "9effe125",
   "metadata": {
    "execution": {
     "iopub.execute_input": "2025-01-13T10:26:46.833639Z",
     "iopub.status.busy": "2025-01-13T10:26:46.833251Z",
     "iopub.status.idle": "2025-01-13T10:26:46.935568Z",
     "shell.execute_reply": "2025-01-13T10:26:46.934375Z",
     "shell.execute_reply.started": "2025-01-13T10:26:46.833607Z"
    },
    "papermill": {
     "duration": null,
     "end_time": null,
     "exception": null,
     "start_time": null,
     "status": "pending"
    },
    "tags": []
   },
   "outputs": [],
   "source": [
    "X_train, X_val, y_train, y_val = train_test_split(X, y, test_size=0.3, random_state=40)\n",
    "\n",
    "X_train_preprocessed = preprocessor.fit_transform(X_train)\n",
    "X_val_preprocessed = preprocessor.transform(X_val)\n",
    "\n",
    "X_test_preprocessed = preprocessor.transform(X_test)"
   ]
  },
  {
   "cell_type": "code",
   "execution_count": null,
   "id": "9cc47ec0",
   "metadata": {
    "execution": {
     "iopub.execute_input": "2025-01-13T10:30:54.080375Z",
     "iopub.status.busy": "2025-01-13T10:30:54.080036Z",
     "iopub.status.idle": "2025-01-13T10:30:57.906449Z",
     "shell.execute_reply": "2025-01-13T10:30:57.905482Z",
     "shell.execute_reply.started": "2025-01-13T10:30:54.080347Z"
    },
    "papermill": {
     "duration": null,
     "end_time": null,
     "exception": null,
     "start_time": null,
     "status": "pending"
    },
    "tags": []
   },
   "outputs": [],
   "source": [
    "from sklearn.linear_model import LinearRegression\n",
    "from sklearn.ensemble import RandomForestRegressor, GradientBoostingRegressor\n",
    "from xgboost import XGBRegressor\n",
    "from sklearn.metrics import mean_squared_error\n",
    "import numpy as np\n",
    "\n",
    "# Step 4.1: Model Training\n",
    "\n",
    "# Initialize the models\n",
    "models = {\n",
    "    'Linear Regression': LinearRegression(),\n",
    "    'Random Forest': RandomForestRegressor(n_estimators=100, random_state=42),\n",
    "    'Gradient Boosting': GradientBoostingRegressor(n_estimators=100, random_state=42),\n",
    "    'XGBoost': XGBRegressor(n_estimators=100, random_state=42)\n",
    "}\n",
    "\n",
    "# Train and evaluate each model\n",
    "results = {}\n",
    "\n",
    "for model_name, model in models.items():\n",
    "    print(f\"Training {model_name}...\")\n",
    "    \n",
    "    # Train the model\n",
    "    model.fit(X_train_preprocessed, y_train)\n",
    "    \n",
    "    # Predict on validation set\n",
    "    y_val_pred = model.predict(X_val_preprocessed)\n",
    "    \n",
    "    # Calculate RMSE\n",
    "    rmse = np.sqrt(mean_squared_error(y_val, y_val_pred))\n",
    "    results[model_name] = rmse\n",
    "    print(f\"RMSE for {model_name}: {rmse:.4f}\")\n",
    "\n",
    "# Display results\n",
    "print(\"\\nModel Comparison (RMSE):\")\n",
    "for model_name, rmse in results.items():\n",
    "    print(f\"{model_name}: {rmse:.4f}\")"
   ]
  },
  {
   "cell_type": "code",
   "execution_count": null,
   "id": "2ab4bfd5",
   "metadata": {
    "execution": {
     "iopub.execute_input": "2025-01-13T13:03:51.642159Z",
     "iopub.status.busy": "2025-01-13T13:03:51.641800Z",
     "iopub.status.idle": "2025-01-13T13:04:10.654353Z",
     "shell.execute_reply": "2025-01-13T13:04:10.653134Z",
     "shell.execute_reply.started": "2025-01-13T13:03:51.642134Z"
    },
    "papermill": {
     "duration": null,
     "end_time": null,
     "exception": null,
     "start_time": null,
     "status": "pending"
    },
    "tags": []
   },
   "outputs": [],
   "source": [
    "import joblib\n",
    "import numpy as np\n",
    "import pandas as pd\n",
    "import lightgbm as lgb\n",
    "from sklearn.metrics import mean_squared_error\n",
    "\n",
    "# Step 1: Train the model\n",
    "lgb_model = lgb.LGBMRegressor(n_estimators=10000, learning_rate=0.05 ,max_depth=50, subsample=0.7, colsample_bytree=0.8, random_state=40)\n",
    "\n",
    "# Assuming X_train_preprocessed and y_train are already defined and X_train_preprocessed is a NumPy array\n",
    "X_train_preprocessed = pd.DataFrame(X_train_preprocessed)  # Convert to DataFrame\n",
    "lgb_model.fit(X_train_preprocessed, y_train)\n",
    "\n",
    "# Step 2: Make predictions on the validation set and calculate RMSE\n",
    "y_val_pred = lgb_model.predict(X_val_preprocessed)\n",
    "\n",
    "rmse = np.sqrt(mean_squared_error(y_val, y_val_pred))\n",
    "print(f\"RMSE for LGBM: {rmse:.4f}\")\n",
    "\n",
    "# Step 3: Save the trained model\n",
    "joblib.dump(lgb_model, 'lgb_model.pkl')\n",
    "\n",
    "# Step 4: Load the saved model and make predictions on the test set\n",
    "\n",
    "# Assuming test_df is your test data\n",
    "test_file_path = \"../input/house-prices-advanced-regression-techniques/test.csv\"\n",
    "test_df = pd.read_csv(test_file_path)\n",
    "idx = test_df.pop('Id')  # Pop 'Id' before processing the test data\n",
    "\n",
    "# Ensure the test set has the same columns as the training set\n",
    "missing_cols = set(X_train_preprocessed.columns) - set(test_df.columns)\n",
    "\n",
    "# Create a DataFrame with missing columns and default values\n",
    "missing_data = pd.DataFrame({col: 0 for col in missing_cols}, index=test_df.index)\n",
    "\n",
    "# Concatenate the missing columns to the test DataFrame\n",
    "test_df = pd.concat([test_df, missing_data], axis=1)\n",
    "\n",
    "# Reorder test set columns to match training set\n",
    "test_df = test_df[X_train_preprocessed.columns]\n",
    "\n",
    "# Step 5: Load the saved model\n",
    "lgb_model_loaded = joblib.load('lgb_model.pkl')\n",
    "\n",
    "# Step 6: Predict on the test set\n",
    "y_test_pred = lgb_model_loaded.predict(test_df)\n",
    "\n",
    "# Create the output DataFrame\n"
   ]
  },
  {
   "cell_type": "code",
   "execution_count": null,
   "id": "1af4328a",
   "metadata": {
    "execution": {
     "iopub.execute_input": "2025-01-13T13:04:10.656305Z",
     "iopub.status.busy": "2025-01-13T13:04:10.655962Z",
     "iopub.status.idle": "2025-01-13T13:04:10.671572Z",
     "shell.execute_reply": "2025-01-13T13:04:10.670560Z",
     "shell.execute_reply.started": "2025-01-13T13:04:10.656274Z"
    },
    "papermill": {
     "duration": null,
     "end_time": null,
     "exception": null,
     "start_time": null,
     "status": "pending"
    },
    "tags": []
   },
   "outputs": [],
   "source": [
    "output = pd.DataFrame({'Id': idx, 'SalePrice': y_test_pred})\n",
    "\n",
    "output.to_csv('/kaggle/working/submission.csv', index=False)\n",
    "\n",
    "print(output.head())\n"
   ]
  },
  {
   "cell_type": "code",
   "execution_count": null,
   "id": "d1d00029",
   "metadata": {
    "papermill": {
     "duration": null,
     "end_time": null,
     "exception": null,
     "start_time": null,
     "status": "pending"
    },
    "tags": []
   },
   "outputs": [],
   "source": []
  }
 ],
 "metadata": {
  "kaggle": {
   "accelerator": "none",
   "dataSources": [
    {
     "databundleVersionId": 868283,
     "sourceId": 5407,
     "sourceType": "competition"
    }
   ],
   "dockerImageVersionId": 30822,
   "isGpuEnabled": false,
   "isInternetEnabled": false,
   "language": "python",
   "sourceType": "notebook"
  },
  "kernelspec": {
   "display_name": "Python 3",
   "language": "python",
   "name": "python3"
  },
  "language_info": {
   "codemirror_mode": {
    "name": "ipython",
    "version": 3
   },
   "file_extension": ".py",
   "mimetype": "text/x-python",
   "name": "python",
   "nbconvert_exporter": "python",
   "pygments_lexer": "ipython3",
   "version": "3.10.12"
  },
  "papermill": {
   "default_parameters": {},
   "duration": 6.373814,
   "end_time": "2025-01-13T13:05:31.908569",
   "environment_variables": {},
   "exception": true,
   "input_path": "__notebook__.ipynb",
   "output_path": "__notebook__.ipynb",
   "parameters": {},
   "start_time": "2025-01-13T13:05:25.534755",
   "version": "2.6.0"
  }
 },
 "nbformat": 4,
 "nbformat_minor": 5
}
